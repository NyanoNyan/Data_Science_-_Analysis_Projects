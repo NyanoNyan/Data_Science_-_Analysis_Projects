{
 "cells": [
  {
   "cell_type": "markdown",
   "metadata": {},
   "source": [
    "# Importing relevant libraries"
   ]
  },
  {
   "cell_type": "code",
   "execution_count": 253,
   "metadata": {},
   "outputs": [],
   "source": [
    "import numpy as np\n",
    "import pandas as pd\n",
    "import matplotlib.pyplot as plt\n",
    "import seaborn as sns\n",
    "from datetime import datetime, date\n",
    "import time"
   ]
  },
  {
   "cell_type": "markdown",
   "metadata": {},
   "source": [
    "# Loading data set"
   ]
  },
  {
   "cell_type": "code",
   "execution_count": 254,
   "metadata": {},
   "outputs": [
    {
     "data": {
      "text/html": [
       "<div>\n",
       "<style scoped>\n",
       "    .dataframe tbody tr th:only-of-type {\n",
       "        vertical-align: middle;\n",
       "    }\n",
       "\n",
       "    .dataframe tbody tr th {\n",
       "        vertical-align: top;\n",
       "    }\n",
       "\n",
       "    .dataframe thead th {\n",
       "        text-align: right;\n",
       "    }\n",
       "</style>\n",
       "<table border=\"1\" class=\"dataframe\">\n",
       "  <thead>\n",
       "    <tr style=\"text-align: right;\">\n",
       "      <th></th>\n",
       "      <th>Start Time</th>\n",
       "      <th>End Time</th>\n",
       "      <th>Tag</th>\n",
       "      <th>Note</th>\n",
       "      <th>Tree Type</th>\n",
       "      <th>Is Success</th>\n",
       "    </tr>\n",
       "  </thead>\n",
       "  <tbody>\n",
       "    <tr>\n",
       "      <th>0</th>\n",
       "      <td>Wed Jun 01 00:48:49 GMT+01:00 2016</td>\n",
       "      <td>Wed Jun 01 00:48:49 GMT+01:00 2016</td>\n",
       "      <td>Unset</td>\n",
       "      <td>NaN</td>\n",
       "      <td>Bush</td>\n",
       "      <td>False</td>\n",
       "    </tr>\n",
       "    <tr>\n",
       "      <th>1</th>\n",
       "      <td>Wed Jun 01 10:57:26 GMT+01:00 2016</td>\n",
       "      <td>Wed Jun 01 11:17:26 GMT+01:00 2016</td>\n",
       "      <td>Social</td>\n",
       "      <td>NaN</td>\n",
       "      <td>Bush</td>\n",
       "      <td>True</td>\n",
       "    </tr>\n",
       "    <tr>\n",
       "      <th>2</th>\n",
       "      <td>Wed Jun 01 11:21:58 GMT+01:00 2016</td>\n",
       "      <td>Wed Jun 01 11:41:58 GMT+01:00 2016</td>\n",
       "      <td>Social</td>\n",
       "      <td>NaN</td>\n",
       "      <td>Bush</td>\n",
       "      <td>True</td>\n",
       "    </tr>\n",
       "    <tr>\n",
       "      <th>3</th>\n",
       "      <td>Wed Jun 15 00:05:53 GMT+01:00 2016</td>\n",
       "      <td>Wed Jun 15 00:06:27 GMT+01:00 2016</td>\n",
       "      <td>Social</td>\n",
       "      <td>NaN</td>\n",
       "      <td>Cedar</td>\n",
       "      <td>False</td>\n",
       "    </tr>\n",
       "    <tr>\n",
       "      <th>4</th>\n",
       "      <td>Wed Jun 15 00:07:13 GMT+01:00 2016</td>\n",
       "      <td>Wed Jun 15 01:07:13 GMT+01:00 2016</td>\n",
       "      <td>Social</td>\n",
       "      <td>NaN</td>\n",
       "      <td>Cedar</td>\n",
       "      <td>True</td>\n",
       "    </tr>\n",
       "  </tbody>\n",
       "</table>\n",
       "</div>"
      ],
      "text/plain": [
       "                           Start Time                            End Time  \\\n",
       "0  Wed Jun 01 00:48:49 GMT+01:00 2016  Wed Jun 01 00:48:49 GMT+01:00 2016   \n",
       "1  Wed Jun 01 10:57:26 GMT+01:00 2016  Wed Jun 01 11:17:26 GMT+01:00 2016   \n",
       "2  Wed Jun 01 11:21:58 GMT+01:00 2016  Wed Jun 01 11:41:58 GMT+01:00 2016   \n",
       "3  Wed Jun 15 00:05:53 GMT+01:00 2016  Wed Jun 15 00:06:27 GMT+01:00 2016   \n",
       "4  Wed Jun 15 00:07:13 GMT+01:00 2016  Wed Jun 15 01:07:13 GMT+01:00 2016   \n",
       "\n",
       "      Tag Note Tree Type  Is Success  \n",
       "0   Unset  NaN      Bush       False  \n",
       "1  Social  NaN      Bush        True  \n",
       "2  Social  NaN      Bush        True  \n",
       "3  Social  NaN     Cedar       False  \n",
       "4  Social  NaN     Cedar        True  "
      ]
     },
     "execution_count": 254,
     "metadata": {},
     "output_type": "execute_result"
    }
   ],
   "source": [
    "data = pd.read_csv(\"plants_forest_data.csv\")\n",
    "data.head()"
   ]
  },
  {
   "cell_type": "code",
   "execution_count": 255,
   "metadata": {},
   "outputs": [
    {
     "data": {
      "text/plain": [
       "(4054, 6)"
      ]
     },
     "execution_count": 255,
     "metadata": {},
     "output_type": "execute_result"
    }
   ],
   "source": [
    "data.shape"
   ]
  },
  {
   "cell_type": "code",
   "execution_count": 256,
   "metadata": {},
   "outputs": [
    {
     "name": "stdout",
     "output_type": "stream",
     "text": [
      "<class 'pandas.core.frame.DataFrame'>\n",
      "RangeIndex: 4054 entries, 0 to 4053\n",
      "Data columns (total 6 columns):\n",
      "Start Time    4054 non-null object\n",
      "End Time      4054 non-null object\n",
      "Tag           4054 non-null object\n",
      "Note          35 non-null object\n",
      "Tree Type     4054 non-null object\n",
      "Is Success    4054 non-null bool\n",
      "dtypes: bool(1), object(5)\n",
      "memory usage: 162.4+ KB\n"
     ]
    }
   ],
   "source": [
    "data.info()"
   ]
  },
  {
   "cell_type": "markdown",
   "metadata": {},
   "source": [
    "# Organizing time data"
   ]
  },
  {
   "cell_type": "code",
   "execution_count": 257,
   "metadata": {},
   "outputs": [],
   "source": [
    "# Setting time_stamp for start and end time\n",
    "data['timestamp_start'] = pd.to_datetime(data['Start Time'], utc = True)\n",
    "data['timestamp_end'] = pd.to_datetime(data['End Time'], utc = True)\n",
    "\n",
    "# Getting all the time data\n",
    "data['year'] = data['timestamp_start'].dt.year\n",
    "data['hour'] = data['timestamp_start'].dt.hour\n",
    "data['weekday'] = data['timestamp_start'].dt.weekday_name\n",
    "data['month'] = data['timestamp_start'].dt.month\n"
   ]
  },
  {
   "cell_type": "code",
   "execution_count": 258,
   "metadata": {},
   "outputs": [
    {
     "data": {
      "text/html": [
       "<div>\n",
       "<style scoped>\n",
       "    .dataframe tbody tr th:only-of-type {\n",
       "        vertical-align: middle;\n",
       "    }\n",
       "\n",
       "    .dataframe tbody tr th {\n",
       "        vertical-align: top;\n",
       "    }\n",
       "\n",
       "    .dataframe thead th {\n",
       "        text-align: right;\n",
       "    }\n",
       "</style>\n",
       "<table border=\"1\" class=\"dataframe\">\n",
       "  <thead>\n",
       "    <tr style=\"text-align: right;\">\n",
       "      <th></th>\n",
       "      <th>Start Time</th>\n",
       "      <th>End Time</th>\n",
       "      <th>Tag</th>\n",
       "      <th>Note</th>\n",
       "      <th>Tree Type</th>\n",
       "      <th>Is Success</th>\n",
       "      <th>timestamp_start</th>\n",
       "      <th>timestamp_end</th>\n",
       "      <th>year</th>\n",
       "      <th>hour</th>\n",
       "      <th>weekday</th>\n",
       "      <th>month</th>\n",
       "    </tr>\n",
       "  </thead>\n",
       "  <tbody>\n",
       "    <tr>\n",
       "      <th>1</th>\n",
       "      <td>Wed Jun 01 10:57:26 GMT+01:00 2016</td>\n",
       "      <td>Wed Jun 01 11:17:26 GMT+01:00 2016</td>\n",
       "      <td>Social</td>\n",
       "      <td>NaN</td>\n",
       "      <td>Bush</td>\n",
       "      <td>True</td>\n",
       "      <td>2016-06-01 11:57:26+00:00</td>\n",
       "      <td>2016-06-01 12:17:26+00:00</td>\n",
       "      <td>2016</td>\n",
       "      <td>11</td>\n",
       "      <td>Wednesday</td>\n",
       "      <td>6</td>\n",
       "    </tr>\n",
       "    <tr>\n",
       "      <th>2</th>\n",
       "      <td>Wed Jun 01 11:21:58 GMT+01:00 2016</td>\n",
       "      <td>Wed Jun 01 11:41:58 GMT+01:00 2016</td>\n",
       "      <td>Social</td>\n",
       "      <td>NaN</td>\n",
       "      <td>Bush</td>\n",
       "      <td>True</td>\n",
       "      <td>2016-06-01 12:21:58+00:00</td>\n",
       "      <td>2016-06-01 12:41:58+00:00</td>\n",
       "      <td>2016</td>\n",
       "      <td>12</td>\n",
       "      <td>Wednesday</td>\n",
       "      <td>6</td>\n",
       "    </tr>\n",
       "    <tr>\n",
       "      <th>4</th>\n",
       "      <td>Wed Jun 15 00:07:13 GMT+01:00 2016</td>\n",
       "      <td>Wed Jun 15 01:07:13 GMT+01:00 2016</td>\n",
       "      <td>Social</td>\n",
       "      <td>NaN</td>\n",
       "      <td>Cedar</td>\n",
       "      <td>True</td>\n",
       "      <td>2016-06-15 01:07:13+00:00</td>\n",
       "      <td>2016-06-15 02:07:13+00:00</td>\n",
       "      <td>2016</td>\n",
       "      <td>1</td>\n",
       "      <td>Wednesday</td>\n",
       "      <td>6</td>\n",
       "    </tr>\n",
       "    <tr>\n",
       "      <th>6</th>\n",
       "      <td>Wed Jun 15 01:09:36 GMT+01:00 2016</td>\n",
       "      <td>Wed Jun 15 01:49:36 GMT+01:00 2016</td>\n",
       "      <td>Social</td>\n",
       "      <td>NaN</td>\n",
       "      <td>Cedar</td>\n",
       "      <td>True</td>\n",
       "      <td>2016-06-15 02:09:36+00:00</td>\n",
       "      <td>2016-06-15 02:49:36+00:00</td>\n",
       "      <td>2016</td>\n",
       "      <td>2</td>\n",
       "      <td>Wednesday</td>\n",
       "      <td>6</td>\n",
       "    </tr>\n",
       "    <tr>\n",
       "      <th>7</th>\n",
       "      <td>Wed Jun 15 10:28:06 GMT+01:00 2016</td>\n",
       "      <td>Wed Jun 15 10:58:06 GMT+01:00 2016</td>\n",
       "      <td>Social</td>\n",
       "      <td>NaN</td>\n",
       "      <td>Cedar</td>\n",
       "      <td>True</td>\n",
       "      <td>2016-06-15 11:28:06+00:00</td>\n",
       "      <td>2016-06-15 11:58:06+00:00</td>\n",
       "      <td>2016</td>\n",
       "      <td>11</td>\n",
       "      <td>Wednesday</td>\n",
       "      <td>6</td>\n",
       "    </tr>\n",
       "  </tbody>\n",
       "</table>\n",
       "</div>"
      ],
      "text/plain": [
       "                           Start Time                            End Time  \\\n",
       "1  Wed Jun 01 10:57:26 GMT+01:00 2016  Wed Jun 01 11:17:26 GMT+01:00 2016   \n",
       "2  Wed Jun 01 11:21:58 GMT+01:00 2016  Wed Jun 01 11:41:58 GMT+01:00 2016   \n",
       "4  Wed Jun 15 00:07:13 GMT+01:00 2016  Wed Jun 15 01:07:13 GMT+01:00 2016   \n",
       "6  Wed Jun 15 01:09:36 GMT+01:00 2016  Wed Jun 15 01:49:36 GMT+01:00 2016   \n",
       "7  Wed Jun 15 10:28:06 GMT+01:00 2016  Wed Jun 15 10:58:06 GMT+01:00 2016   \n",
       "\n",
       "      Tag Note Tree Type  Is Success           timestamp_start  \\\n",
       "1  Social  NaN      Bush        True 2016-06-01 11:57:26+00:00   \n",
       "2  Social  NaN      Bush        True 2016-06-01 12:21:58+00:00   \n",
       "4  Social  NaN     Cedar        True 2016-06-15 01:07:13+00:00   \n",
       "6  Social  NaN     Cedar        True 2016-06-15 02:09:36+00:00   \n",
       "7  Social  NaN     Cedar        True 2016-06-15 11:28:06+00:00   \n",
       "\n",
       "              timestamp_end  year  hour    weekday  month  \n",
       "1 2016-06-01 12:17:26+00:00  2016    11  Wednesday      6  \n",
       "2 2016-06-01 12:41:58+00:00  2016    12  Wednesday      6  \n",
       "4 2016-06-15 02:07:13+00:00  2016     1  Wednesday      6  \n",
       "6 2016-06-15 02:49:36+00:00  2016     2  Wednesday      6  \n",
       "7 2016-06-15 11:58:06+00:00  2016    11  Wednesday      6  "
      ]
     },
     "execution_count": 258,
     "metadata": {},
     "output_type": "execute_result"
    }
   ],
   "source": [
    "# Only gettign successful trees which have been planted\n",
    "data_success = data[data['Is Success'] == True]\n",
    "data_success.head()"
   ]
  },
  {
   "cell_type": "markdown",
   "metadata": {},
   "source": [
    "# Creating time difference column"
   ]
  },
  {
   "cell_type": "code",
   "execution_count": 259,
   "metadata": {},
   "outputs": [
    {
     "name": "stdout",
     "output_type": "stream",
     "text": [
      "<class 'pandas.core.frame.DataFrame'>\n",
      "Int64Index: 4029 entries, 1 to 4053\n",
      "Data columns (total 12 columns):\n",
      "Start Time         4029 non-null object\n",
      "End Time           4029 non-null object\n",
      "Tag                4029 non-null object\n",
      "Note               34 non-null object\n",
      "Tree Type          4029 non-null object\n",
      "Is Success         4029 non-null bool\n",
      "timestamp_start    4029 non-null datetime64[ns, UTC]\n",
      "timestamp_end      4029 non-null datetime64[ns, UTC]\n",
      "year               4029 non-null int64\n",
      "hour               4029 non-null int64\n",
      "weekday            4029 non-null object\n",
      "month              4029 non-null int64\n",
      "dtypes: bool(1), datetime64[ns, UTC](2), int64(3), object(6)\n",
      "memory usage: 381.7+ KB\n"
     ]
    }
   ],
   "source": [
    "data_success.info()"
   ]
  },
  {
   "cell_type": "code",
   "execution_count": 260,
   "metadata": {},
   "outputs": [],
   "source": [
    "# Testing purposes\n",
    "#t2 = data_success['timestamp_end']\n",
    "#t1 = data_success['timestamp_start']"
   ]
  },
  {
   "cell_type": "code",
   "execution_count": 261,
   "metadata": {},
   "outputs": [],
   "source": [
    "# Testing purposes\n",
    "#t2.iloc[0]-t1.iloc[0]"
   ]
  },
  {
   "cell_type": "code",
   "execution_count": 262,
   "metadata": {},
   "outputs": [
    {
     "name": "stderr",
     "output_type": "stream",
     "text": [
      "D:\\Anaconda\\lib\\site-packages\\ipykernel_launcher.py:3: SettingWithCopyWarning: \n",
      "A value is trying to be set on a copy of a slice from a DataFrame.\n",
      "Try using .loc[row_indexer,col_indexer] = value instead\n",
      "\n",
      "See the caveats in the documentation: http://pandas.pydata.org/pandas-docs/stable/indexing.html#indexing-view-versus-copy\n",
      "  This is separate from the ipykernel package so we can avoid doing imports until\n"
     ]
    }
   ],
   "source": [
    "# Get the difference in time, timepoints substraction\n",
    "data_success['time_diff'] = data_success.apply(lambda x: x['timestamp_end'] - x['timestamp_start'], \n",
    "                                               axis=1)"
   ]
  },
  {
   "cell_type": "code",
   "execution_count": 263,
   "metadata": {},
   "outputs": [
    {
     "data": {
      "text/html": [
       "<div>\n",
       "<style scoped>\n",
       "    .dataframe tbody tr th:only-of-type {\n",
       "        vertical-align: middle;\n",
       "    }\n",
       "\n",
       "    .dataframe tbody tr th {\n",
       "        vertical-align: top;\n",
       "    }\n",
       "\n",
       "    .dataframe thead th {\n",
       "        text-align: right;\n",
       "    }\n",
       "</style>\n",
       "<table border=\"1\" class=\"dataframe\">\n",
       "  <thead>\n",
       "    <tr style=\"text-align: right;\">\n",
       "      <th></th>\n",
       "      <th>Start Time</th>\n",
       "      <th>End Time</th>\n",
       "      <th>Tag</th>\n",
       "      <th>Note</th>\n",
       "      <th>Tree Type</th>\n",
       "      <th>Is Success</th>\n",
       "      <th>timestamp_start</th>\n",
       "      <th>timestamp_end</th>\n",
       "      <th>year</th>\n",
       "      <th>hour</th>\n",
       "      <th>weekday</th>\n",
       "      <th>month</th>\n",
       "      <th>time_diff</th>\n",
       "    </tr>\n",
       "  </thead>\n",
       "  <tbody>\n",
       "    <tr>\n",
       "      <th>1</th>\n",
       "      <td>Wed Jun 01 10:57:26 GMT+01:00 2016</td>\n",
       "      <td>Wed Jun 01 11:17:26 GMT+01:00 2016</td>\n",
       "      <td>Social</td>\n",
       "      <td>NaN</td>\n",
       "      <td>Bush</td>\n",
       "      <td>True</td>\n",
       "      <td>2016-06-01 11:57:26+00:00</td>\n",
       "      <td>2016-06-01 12:17:26+00:00</td>\n",
       "      <td>2016</td>\n",
       "      <td>11</td>\n",
       "      <td>Wednesday</td>\n",
       "      <td>6</td>\n",
       "      <td>00:20:00</td>\n",
       "    </tr>\n",
       "    <tr>\n",
       "      <th>2</th>\n",
       "      <td>Wed Jun 01 11:21:58 GMT+01:00 2016</td>\n",
       "      <td>Wed Jun 01 11:41:58 GMT+01:00 2016</td>\n",
       "      <td>Social</td>\n",
       "      <td>NaN</td>\n",
       "      <td>Bush</td>\n",
       "      <td>True</td>\n",
       "      <td>2016-06-01 12:21:58+00:00</td>\n",
       "      <td>2016-06-01 12:41:58+00:00</td>\n",
       "      <td>2016</td>\n",
       "      <td>12</td>\n",
       "      <td>Wednesday</td>\n",
       "      <td>6</td>\n",
       "      <td>00:20:00</td>\n",
       "    </tr>\n",
       "    <tr>\n",
       "      <th>4</th>\n",
       "      <td>Wed Jun 15 00:07:13 GMT+01:00 2016</td>\n",
       "      <td>Wed Jun 15 01:07:13 GMT+01:00 2016</td>\n",
       "      <td>Social</td>\n",
       "      <td>NaN</td>\n",
       "      <td>Cedar</td>\n",
       "      <td>True</td>\n",
       "      <td>2016-06-15 01:07:13+00:00</td>\n",
       "      <td>2016-06-15 02:07:13+00:00</td>\n",
       "      <td>2016</td>\n",
       "      <td>1</td>\n",
       "      <td>Wednesday</td>\n",
       "      <td>6</td>\n",
       "      <td>01:00:00</td>\n",
       "    </tr>\n",
       "    <tr>\n",
       "      <th>6</th>\n",
       "      <td>Wed Jun 15 01:09:36 GMT+01:00 2016</td>\n",
       "      <td>Wed Jun 15 01:49:36 GMT+01:00 2016</td>\n",
       "      <td>Social</td>\n",
       "      <td>NaN</td>\n",
       "      <td>Cedar</td>\n",
       "      <td>True</td>\n",
       "      <td>2016-06-15 02:09:36+00:00</td>\n",
       "      <td>2016-06-15 02:49:36+00:00</td>\n",
       "      <td>2016</td>\n",
       "      <td>2</td>\n",
       "      <td>Wednesday</td>\n",
       "      <td>6</td>\n",
       "      <td>00:40:00</td>\n",
       "    </tr>\n",
       "    <tr>\n",
       "      <th>7</th>\n",
       "      <td>Wed Jun 15 10:28:06 GMT+01:00 2016</td>\n",
       "      <td>Wed Jun 15 10:58:06 GMT+01:00 2016</td>\n",
       "      <td>Social</td>\n",
       "      <td>NaN</td>\n",
       "      <td>Cedar</td>\n",
       "      <td>True</td>\n",
       "      <td>2016-06-15 11:28:06+00:00</td>\n",
       "      <td>2016-06-15 11:58:06+00:00</td>\n",
       "      <td>2016</td>\n",
       "      <td>11</td>\n",
       "      <td>Wednesday</td>\n",
       "      <td>6</td>\n",
       "      <td>00:30:00</td>\n",
       "    </tr>\n",
       "  </tbody>\n",
       "</table>\n",
       "</div>"
      ],
      "text/plain": [
       "                           Start Time                            End Time  \\\n",
       "1  Wed Jun 01 10:57:26 GMT+01:00 2016  Wed Jun 01 11:17:26 GMT+01:00 2016   \n",
       "2  Wed Jun 01 11:21:58 GMT+01:00 2016  Wed Jun 01 11:41:58 GMT+01:00 2016   \n",
       "4  Wed Jun 15 00:07:13 GMT+01:00 2016  Wed Jun 15 01:07:13 GMT+01:00 2016   \n",
       "6  Wed Jun 15 01:09:36 GMT+01:00 2016  Wed Jun 15 01:49:36 GMT+01:00 2016   \n",
       "7  Wed Jun 15 10:28:06 GMT+01:00 2016  Wed Jun 15 10:58:06 GMT+01:00 2016   \n",
       "\n",
       "      Tag Note Tree Type  Is Success           timestamp_start  \\\n",
       "1  Social  NaN      Bush        True 2016-06-01 11:57:26+00:00   \n",
       "2  Social  NaN      Bush        True 2016-06-01 12:21:58+00:00   \n",
       "4  Social  NaN     Cedar        True 2016-06-15 01:07:13+00:00   \n",
       "6  Social  NaN     Cedar        True 2016-06-15 02:09:36+00:00   \n",
       "7  Social  NaN     Cedar        True 2016-06-15 11:28:06+00:00   \n",
       "\n",
       "              timestamp_end  year  hour    weekday  month time_diff  \n",
       "1 2016-06-01 12:17:26+00:00  2016    11  Wednesday      6  00:20:00  \n",
       "2 2016-06-01 12:41:58+00:00  2016    12  Wednesday      6  00:20:00  \n",
       "4 2016-06-15 02:07:13+00:00  2016     1  Wednesday      6  01:00:00  \n",
       "6 2016-06-15 02:49:36+00:00  2016     2  Wednesday      6  00:40:00  \n",
       "7 2016-06-15 11:58:06+00:00  2016    11  Wednesday      6  00:30:00  "
      ]
     },
     "execution_count": 263,
     "metadata": {},
     "output_type": "execute_result"
    }
   ],
   "source": [
    "data_success.head()"
   ]
  },
  {
   "cell_type": "code",
   "execution_count": 264,
   "metadata": {},
   "outputs": [],
   "source": [
    "# Testing to get the time value (minute format)\n",
    "#data_success.time_diff.iloc[0].total_seconds()/3600"
   ]
  },
  {
   "cell_type": "code",
   "execution_count": 276,
   "metadata": {},
   "outputs": [
    {
     "name": "stderr",
     "output_type": "stream",
     "text": [
      "D:\\Anaconda\\lib\\site-packages\\ipykernel_launcher.py:2: SettingWithCopyWarning: \n",
      "A value is trying to be set on a copy of a slice from a DataFrame.\n",
      "Try using .loc[row_indexer,col_indexer] = value instead\n",
      "\n",
      "See the caveats in the documentation: http://pandas.pydata.org/pandas-docs/stable/indexing.html#indexing-view-versus-copy\n",
      "  \n"
     ]
    }
   ],
   "source": [
    "# divide by 60 for minutes, 60*60 for hour\n",
    "data_success['time_diff_min'] = data_success.apply(lambda x: x.time_diff.total_seconds()/(60*60), \n",
    "                                               axis=1)"
   ]
  },
  {
   "cell_type": "code",
   "execution_count": 277,
   "metadata": {},
   "outputs": [
    {
     "data": {
      "text/html": [
       "<div>\n",
       "<style scoped>\n",
       "    .dataframe tbody tr th:only-of-type {\n",
       "        vertical-align: middle;\n",
       "    }\n",
       "\n",
       "    .dataframe tbody tr th {\n",
       "        vertical-align: top;\n",
       "    }\n",
       "\n",
       "    .dataframe thead th {\n",
       "        text-align: right;\n",
       "    }\n",
       "</style>\n",
       "<table border=\"1\" class=\"dataframe\">\n",
       "  <thead>\n",
       "    <tr style=\"text-align: right;\">\n",
       "      <th></th>\n",
       "      <th>Start Time</th>\n",
       "      <th>End Time</th>\n",
       "      <th>Tag</th>\n",
       "      <th>Note</th>\n",
       "      <th>Tree Type</th>\n",
       "      <th>Is Success</th>\n",
       "      <th>timestamp_start</th>\n",
       "      <th>timestamp_end</th>\n",
       "      <th>year</th>\n",
       "      <th>hour</th>\n",
       "      <th>weekday</th>\n",
       "      <th>month</th>\n",
       "      <th>time_diff</th>\n",
       "      <th>time_diff_min</th>\n",
       "    </tr>\n",
       "  </thead>\n",
       "  <tbody>\n",
       "    <tr>\n",
       "      <th>1</th>\n",
       "      <td>Wed Jun 01 10:57:26 GMT+01:00 2016</td>\n",
       "      <td>Wed Jun 01 11:17:26 GMT+01:00 2016</td>\n",
       "      <td>Social</td>\n",
       "      <td>NaN</td>\n",
       "      <td>Bush</td>\n",
       "      <td>True</td>\n",
       "      <td>2016-06-01 11:57:26+00:00</td>\n",
       "      <td>2016-06-01 12:17:26+00:00</td>\n",
       "      <td>2016</td>\n",
       "      <td>11</td>\n",
       "      <td>Wednesday</td>\n",
       "      <td>6</td>\n",
       "      <td>00:20:00</td>\n",
       "      <td>0.333333</td>\n",
       "    </tr>\n",
       "    <tr>\n",
       "      <th>2</th>\n",
       "      <td>Wed Jun 01 11:21:58 GMT+01:00 2016</td>\n",
       "      <td>Wed Jun 01 11:41:58 GMT+01:00 2016</td>\n",
       "      <td>Social</td>\n",
       "      <td>NaN</td>\n",
       "      <td>Bush</td>\n",
       "      <td>True</td>\n",
       "      <td>2016-06-01 12:21:58+00:00</td>\n",
       "      <td>2016-06-01 12:41:58+00:00</td>\n",
       "      <td>2016</td>\n",
       "      <td>12</td>\n",
       "      <td>Wednesday</td>\n",
       "      <td>6</td>\n",
       "      <td>00:20:00</td>\n",
       "      <td>0.333333</td>\n",
       "    </tr>\n",
       "    <tr>\n",
       "      <th>4</th>\n",
       "      <td>Wed Jun 15 00:07:13 GMT+01:00 2016</td>\n",
       "      <td>Wed Jun 15 01:07:13 GMT+01:00 2016</td>\n",
       "      <td>Social</td>\n",
       "      <td>NaN</td>\n",
       "      <td>Cedar</td>\n",
       "      <td>True</td>\n",
       "      <td>2016-06-15 01:07:13+00:00</td>\n",
       "      <td>2016-06-15 02:07:13+00:00</td>\n",
       "      <td>2016</td>\n",
       "      <td>1</td>\n",
       "      <td>Wednesday</td>\n",
       "      <td>6</td>\n",
       "      <td>01:00:00</td>\n",
       "      <td>1.000000</td>\n",
       "    </tr>\n",
       "    <tr>\n",
       "      <th>6</th>\n",
       "      <td>Wed Jun 15 01:09:36 GMT+01:00 2016</td>\n",
       "      <td>Wed Jun 15 01:49:36 GMT+01:00 2016</td>\n",
       "      <td>Social</td>\n",
       "      <td>NaN</td>\n",
       "      <td>Cedar</td>\n",
       "      <td>True</td>\n",
       "      <td>2016-06-15 02:09:36+00:00</td>\n",
       "      <td>2016-06-15 02:49:36+00:00</td>\n",
       "      <td>2016</td>\n",
       "      <td>2</td>\n",
       "      <td>Wednesday</td>\n",
       "      <td>6</td>\n",
       "      <td>00:40:00</td>\n",
       "      <td>0.666667</td>\n",
       "    </tr>\n",
       "    <tr>\n",
       "      <th>7</th>\n",
       "      <td>Wed Jun 15 10:28:06 GMT+01:00 2016</td>\n",
       "      <td>Wed Jun 15 10:58:06 GMT+01:00 2016</td>\n",
       "      <td>Social</td>\n",
       "      <td>NaN</td>\n",
       "      <td>Cedar</td>\n",
       "      <td>True</td>\n",
       "      <td>2016-06-15 11:28:06+00:00</td>\n",
       "      <td>2016-06-15 11:58:06+00:00</td>\n",
       "      <td>2016</td>\n",
       "      <td>11</td>\n",
       "      <td>Wednesday</td>\n",
       "      <td>6</td>\n",
       "      <td>00:30:00</td>\n",
       "      <td>0.500000</td>\n",
       "    </tr>\n",
       "  </tbody>\n",
       "</table>\n",
       "</div>"
      ],
      "text/plain": [
       "                           Start Time                            End Time  \\\n",
       "1  Wed Jun 01 10:57:26 GMT+01:00 2016  Wed Jun 01 11:17:26 GMT+01:00 2016   \n",
       "2  Wed Jun 01 11:21:58 GMT+01:00 2016  Wed Jun 01 11:41:58 GMT+01:00 2016   \n",
       "4  Wed Jun 15 00:07:13 GMT+01:00 2016  Wed Jun 15 01:07:13 GMT+01:00 2016   \n",
       "6  Wed Jun 15 01:09:36 GMT+01:00 2016  Wed Jun 15 01:49:36 GMT+01:00 2016   \n",
       "7  Wed Jun 15 10:28:06 GMT+01:00 2016  Wed Jun 15 10:58:06 GMT+01:00 2016   \n",
       "\n",
       "      Tag Note Tree Type  Is Success           timestamp_start  \\\n",
       "1  Social  NaN      Bush        True 2016-06-01 11:57:26+00:00   \n",
       "2  Social  NaN      Bush        True 2016-06-01 12:21:58+00:00   \n",
       "4  Social  NaN     Cedar        True 2016-06-15 01:07:13+00:00   \n",
       "6  Social  NaN     Cedar        True 2016-06-15 02:09:36+00:00   \n",
       "7  Social  NaN     Cedar        True 2016-06-15 11:28:06+00:00   \n",
       "\n",
       "              timestamp_end  year  hour    weekday  month time_diff  \\\n",
       "1 2016-06-01 12:17:26+00:00  2016    11  Wednesday      6  00:20:00   \n",
       "2 2016-06-01 12:41:58+00:00  2016    12  Wednesday      6  00:20:00   \n",
       "4 2016-06-15 02:07:13+00:00  2016     1  Wednesday      6  01:00:00   \n",
       "6 2016-06-15 02:49:36+00:00  2016     2  Wednesday      6  00:40:00   \n",
       "7 2016-06-15 11:58:06+00:00  2016    11  Wednesday      6  00:30:00   \n",
       "\n",
       "   time_diff_min  \n",
       "1       0.333333  \n",
       "2       0.333333  \n",
       "4       1.000000  \n",
       "6       0.666667  \n",
       "7       0.500000  "
      ]
     },
     "execution_count": 277,
     "metadata": {},
     "output_type": "execute_result"
    }
   ],
   "source": [
    "data_success.head()"
   ]
  },
  {
   "cell_type": "markdown",
   "metadata": {},
   "source": [
    "# Splitting up the data in years"
   ]
  },
  {
   "cell_type": "code",
   "execution_count": 278,
   "metadata": {},
   "outputs": [],
   "source": [
    "# Get data just from 2018 & 2019\n",
    "\n",
    "data_2018 = data_success[data_success['year'] == 2018]\n",
    "data_2019 = data_success[data_success['year'] == 2019]\n"
   ]
  },
  {
   "cell_type": "markdown",
   "metadata": {},
   "source": [
    "# Plotting and Analyzing the data (EDA)"
   ]
  },
  {
   "cell_type": "code",
   "execution_count": 288,
   "metadata": {},
   "outputs": [],
   "source": [
    "#plt.figure(figsize = (50,50))\n",
    "#sns.set(font_scale=5)\n",
    "#sns.countplot(x='time_diff_min', data=data_success)\n",
    "#plt.xlabel('Minutes')\n",
    "#plt.title('Time chosen to stay focused (plant trees for x amount long)')"
   ]
  },
  {
   "cell_type": "code",
   "execution_count": 269,
   "metadata": {},
   "outputs": [],
   "source": [
    "# Need to make this clearer, title need to be clearer. Need to do time against day, week, month \n",
    "# and year.\n"
   ]
  },
  {
   "cell_type": "markdown",
   "metadata": {},
   "source": [
    "## Analysis on 2018 data"
   ]
  },
  {
   "cell_type": "markdown",
   "metadata": {},
   "source": [
    "Bar-chart looking at total time spent against each month\n"
   ]
  },
  {
   "cell_type": "code",
   "execution_count": 289,
   "metadata": {},
   "outputs": [
    {
     "data": {
      "image/png": "[encoded data removed]",
      "text/plain": [
       "<Figure size 720x360 with 1 Axes>"
      ]
     },
     "metadata": {},
     "output_type": "display_data"
    }
   ],
   "source": [
    "## Could add all the months, since there is no data on months 6 & 7, could indicate it in the plot\n",
    "\n",
    "plt.figure(figsize = (10,5))\n",
    "# fontscale \n",
    "sns.set(font_scale=1)\n",
    "\n",
    "data_2018.head()\n",
    "data_month = data_2018.groupby('month')['time_diff_min'].sum()\n",
    "\n",
    "data_month = data_month.reset_index()\n",
    "sns.barplot(x='month', y='time_diff_min', data = data_month, palette=\"ch:2.5,-.2,dark=.3\")\n",
    "plt.ylabel('Total_hours_planted')\n",
    "plt.xlabel('Months')\n",
    "plt.title('The total hours spent on planting virtual trees per month')\n",
    "plt.show()"
   ]
  },
  {
   "cell_type": "raw",
   "metadata": {},
   "source": [
    "## 2018 Data ## \n",
    "\n",
    "## This Needs fixing\n",
    "\n",
    "plt.figure(figsize = (10,5))\n",
    "# fontscale \n",
    "sns.set(font_scale=1)\n",
    "\n",
    "## Ordering the weekday columns \n",
    "cats = [ 'Monday', 'Tuesday', 'Wednesday', 'Thursday', 'Friday', 'Saturday', 'Sunday']\n",
    "\n",
    "data_2018['weekday'] = data_2018['weekday'].astype('category', categories=cats, ordered=True)\n",
    "\n",
    "# Another way of doing it\n",
    "#data_2018['weekday'] = pd.Categorical(data_2018['weekday'], categories=cats, ordered=True)\n",
    "#data_2018 = data_2019.sort_values('weekday')\n",
    "\n",
    "# Plotting a line plot for the 2018 data\n",
    "sns.lineplot(x='weekday', y= 'time_diff_min', data = data_2018,  markers=True, dashes=False)\n",
    "plt.ylim((0,40))\n",
    "plt.xlim((0,6))\n",
    "\n",
    "## Need to check this with forest app again, why is it different, might need to sum\n",
    "## This plot is wrong, need to fix it, check app"
   ]
  },
  {
   "cell_type": "raw",
   "metadata": {},
   "source": [
    "# Plotting a line plot for the 2018 data\n",
    "## This needs fixing\n",
    "\n",
    "plt.figure(figsize = (10,5))\n",
    "sns.lineplot(x='hour', y= 'time_diff_min', data = data_2018,  markers=True, dashes=False)\n",
    "\n",
    "plt.ylim((0,60))\n",
    "plt.xlim((0,23))\n",
    "\n",
    "### Need to fix this, so I can see all the hours on the bottom corner\n",
    "### This plot is wrong, need to fix this, check app"
   ]
  },
  {
   "cell_type": "markdown",
   "metadata": {},
   "source": [
    "Countplot to see which hour I work mostly at, 2018 version"
   ]
  },
  {
   "cell_type": "code",
   "execution_count": 273,
   "metadata": {},
   "outputs": [
    {
     "data": {
      "text/plain": [
       "<matplotlib.axes._subplots.AxesSubplot at 0x1eda6672a20>"
      ]
     },
     "execution_count": 273,
     "metadata": {},
     "output_type": "execute_result"
    },
    {
     "data": {
      "image/png": "[encoded data removed]",
      "text/plain": [
       "<Figure size 432x288 with 1 Axes>"
      ]
     },
     "metadata": {},
     "output_type": "display_data"
    }
   ],
   "source": [
    "sns.countplot('hour', data = data_2018, palette=\"ch:2.5,-.2,dark=.3\")"
   ]
  },
  {
   "cell_type": "code",
   "execution_count": 274,
   "metadata": {},
   "outputs": [
    {
     "data": {
      "text/plain": [
       "<matplotlib.axes._subplots.AxesSubplot at 0x1eda6776b38>"
      ]
     },
     "execution_count": 274,
     "metadata": {},
     "output_type": "execute_result"
    },
    {
     "data": {
      "image/png": "[encoded data removed]",
      "text/plain": [
       "<Figure size 432x288 with 1 Axes>"
      ]
     },
     "metadata": {},
     "output_type": "display_data"
    }
   ],
   "source": [
    "# barplot to see which day I plant the most trees\n",
    "# It seems Sunday and Monday seems to be the days where I plant the most in 2018\n",
    "sns.countplot('weekday', data = data_2018, palette=\"ch:2.5,-.2,dark=.3\")"
   ]
  },
  {
   "cell_type": "code",
   "execution_count": null,
   "metadata": {},
   "outputs": [],
   "source": []
  }
 ],
 "metadata": {
  "kernelspec": {
   "display_name": "Python 3",
   "language": "python",
   "name": "python3"
  },
  "language_info": {
   "codemirror_mode": {
    "name": "ipython",
    "version": 3
   },
   "file_extension": ".py",
   "mimetype": "text/x-python",
   "name": "python",
   "nbconvert_exporter": "python",
   "pygments_lexer": "ipython3",
   "version": "3.7.3"
  }
 },
 "nbformat": 4,
 "nbformat_minor": 2
}
